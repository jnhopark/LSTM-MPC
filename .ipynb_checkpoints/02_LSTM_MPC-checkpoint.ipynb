{
 "cells": [
  {
   "cell_type": "code",
   "execution_count": 1,
   "metadata": {
    "colab": {
     "base_uri": "https://localhost:8080/"
    },
    "executionInfo": {
     "elapsed": 378,
     "status": "ok",
     "timestamp": 1612910801066,
     "user": {
      "displayName": "Junho Park",
      "photoUrl": "https://lh3.googleusercontent.com/a-/AOh14GhWH0H954i4D0PPc6sNLVFrvhJj0CKnJSQoAJisShY=s64",
      "userId": "07513182812079543524"
     },
     "user_tz": 420
    },
    "id": "uB1NFYtMKEH3",
    "outputId": "959661fa-3dd4-49fe-b2db-6c7ca7f297f0"
   },
   "outputs": [
    {
     "name": "stdout",
     "output_type": "stream",
     "text": [
      "Running on Colab\n",
      "Drive already mounted at /content/drive; to attempt to forcibly remount, call drive.mount(\"/content/drive\", force_remount=True).\n"
     ]
    }
   ],
   "source": [
    "# Mount Google drive for save and load LSTM models if you're using colab \n",
    "# , and if your files are saved in Google drive\n",
    "if 'google.colab' in str(get_ipython()):\n",
    "  print('Running on Colab')\n",
    "  from google.colab import drive\n",
    "  drive.mount('/content/drive')\n",
    "    \n",
    "else:\n",
    "  print('Not running on Colab')"
   ]
  },
  {
   "cell_type": "code",
   "execution_count": 2,
   "metadata": {
    "executionInfo": {
     "elapsed": 1120,
     "status": "ok",
     "timestamp": 1612910810374,
     "user": {
      "displayName": "Junho Park",
      "photoUrl": "https://lh3.googleusercontent.com/a-/AOh14GhWH0H954i4D0PPc6sNLVFrvhJj0CKnJSQoAJisShY=s64",
      "userId": "07513182812079543524"
     },
     "user_tz": 420
    },
    "id": "N0ap0FuvV-Kg"
   },
   "outputs": [],
   "source": [
    "import pandas as pd\n",
    "import numpy as np\n",
    "import matplotlib.pyplot as plt\n",
    "from sklearn.preprocessing import MinMaxScaler\n",
    "import joblib\n",
    "import time"
   ]
  },
  {
   "cell_type": "code",
   "execution_count": 3,
   "metadata": {
    "executionInfo": {
     "elapsed": 1709,
     "status": "ok",
     "timestamp": 1612910840058,
     "user": {
      "displayName": "Junho Park",
      "photoUrl": "https://lh3.googleusercontent.com/a-/AOh14GhWH0H954i4D0PPc6sNLVFrvhJj0CKnJSQoAJisShY=s64",
      "userId": "07513182812079543524"
     },
     "user_tz": 420
    },
    "id": "zBsyEiyGWCPZ"
   },
   "outputs": [],
   "source": [
    "# For LSTM model\n",
    "from keras.models import Sequential\n",
    "from keras.layers import Dense\n",
    "from keras.layers import LSTM\n",
    "from keras.layers import Dropout\n",
    "from keras.callbacks import EarlyStopping\n",
    "from keras.models import load_model"
   ]
  },
  {
   "cell_type": "code",
   "execution_count": 4,
   "metadata": {
    "colab": {
     "base_uri": "https://localhost:8080/"
    },
    "executionInfo": {
     "elapsed": 13003,
     "status": "ok",
     "timestamp": 1612910873716,
     "user": {
      "displayName": "Junho Park",
      "photoUrl": "https://lh3.googleusercontent.com/a-/AOh14GhWH0H954i4D0PPc6sNLVFrvhJj0CKnJSQoAJisShY=s64",
      "userId": "07513182812079543524"
     },
     "user_tz": 420
    },
    "id": "0d2u7iY5NVyP",
    "outputId": "7bae3ad3-de7f-4042-ee2f-c5a8d2bf6279"
   },
   "outputs": [
    {
     "name": "stdout",
     "output_type": "stream",
     "text": [
      "Running on Colab\n"
     ]
    }
   ],
   "source": [
    "# Load model files (LSTM and MinMaxScaler)\n",
    "if 'google.colab' in str(get_ipython()):\n",
    "  print('Running on Colab')\n",
    "  model = load_model('/content/drive/MyDrive/LSTM_MPC/FOPDT/model.h5')\n",
    "  s1 = joblib.load('/content/drive/MyDrive/LSTM_MPC/FOPDT/s1.sav')\n",
    "  s2 = joblib.load('/content/drive/MyDrive/LSTM_MPC/FOPDT/s2.sav')\n",
    "  \n",
    "else:\n",
    "  print('Not running on Colab')\n",
    "  model = load_model('model.h5')\n",
    "  s1 = joblib.load('s1.sav')\n",
    "  s2 = joblib.load('s2.sav')"
   ]
  },
  {
   "cell_type": "code",
   "execution_count": null,
   "metadata": {
    "id": "wBHjetOVYXLN"
   },
   "outputs": [],
   "source": [
    "window = 5"
   ]
  }
 ],
 "metadata": {
  "accelerator": "GPU",
  "colab": {
   "authorship_tag": "ABX9TyPbt4Szs0wtMABmMR1cIUhu",
   "collapsed_sections": [],
   "mount_file_id": "165wC_NnTxJD64nxa0vLOFTN5JEDq6r_0",
   "name": "02_LSTM_MPC.ipynb",
   "provenance": []
  },
  "kernelspec": {
   "display_name": "Python 3",
   "language": "python",
   "name": "python3"
  },
  "language_info": {
   "codemirror_mode": {
    "name": "ipython",
    "version": 3
   },
   "file_extension": ".py",
   "mimetype": "text/x-python",
   "name": "python",
   "nbconvert_exporter": "python",
   "pygments_lexer": "ipython3",
   "version": "3.8.7"
  }
 },
 "nbformat": 4,
 "nbformat_minor": 1
}
