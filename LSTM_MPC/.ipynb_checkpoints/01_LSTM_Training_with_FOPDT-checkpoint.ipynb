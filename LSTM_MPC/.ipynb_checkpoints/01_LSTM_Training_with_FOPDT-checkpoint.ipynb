{
 "cells": [
  {
   "cell_type": "markdown",
   "metadata": {
    "id": "abD5wFNw1Q6k"
   },
   "source": [
    "## 1. FOPDT Simulation for Generating training Data"
   ]
  },
  {
   "cell_type": "code",
   "execution_count": 1,
   "metadata": {
    "colab": {
     "base_uri": "https://localhost:8080/"
    },
    "executionInfo": {
     "elapsed": 5926,
     "status": "ok",
     "timestamp": 1629328628652,
     "user": {
      "displayName": "Junho Park",
      "photoUrl": "https://lh3.googleusercontent.com/a-/AOh14GhWH0H954i4D0PPc6sNLVFrvhJj0CKnJSQoAJisShY=s64",
      "userId": "07513182812079543524"
     },
     "user_tz": 360
    },
    "id": "YQhFSMZX4t1L",
    "outputId": "9aa9e954-a692-4c0a-ee6c-67e319041b9c"
   },
   "outputs": [
    {
     "name": "stdout",
     "output_type": "stream",
     "text": [
      "Collecting gekko\n",
      "  Downloading gekko-1.0.1-py3-none-any.whl (12.4 MB)\n",
      "\u001b[K     |████████████████████████████████| 12.4 MB 59 kB/s \n",
      "\u001b[?25hRequirement already satisfied: numpy>=1.8 in /usr/local/lib/python3.7/dist-packages (from gekko) (1.19.5)\n",
      "Installing collected packages: gekko\n",
      "Successfully installed gekko-1.0.1\n"
     ]
    }
   ],
   "source": [
    "try:\n",
    "    from gekko import GEKKO\n",
    "except:\n",
    "    !pip install gekko\n",
    "    # restart kernel if this doesn't import\n",
    "    from gekko import GEKKO"
   ]
  },
  {
   "cell_type": "code",
   "execution_count": 2,
   "metadata": {
    "executionInfo": {
     "elapsed": 925,
     "status": "ok",
     "timestamp": 1629328629574,
     "user": {
      "displayName": "Junho Park",
      "photoUrl": "https://lh3.googleusercontent.com/a-/AOh14GhWH0H954i4D0PPc6sNLVFrvhJj0CKnJSQoAJisShY=s64",
      "userId": "07513182812079543524"
     },
     "user_tz": 360
    },
    "id": "jgisis0w1Q6s"
   },
   "outputs": [],
   "source": [
    "# from gekko import GEKKO\n",
    "import numpy as np\n",
    "import matplotlib.pyplot as plt\n",
    "import pandas as pd\n",
    "\n",
    "from plotly.subplots import make_subplots\n",
    "import plotly.graph_objects as go\n",
    "\n",
    "from pickle import dump\n",
    "\n",
    "# from smt.sampling_methods import LHS\n",
    "# from smt.sampling_methods import Random"
   ]
  },
  {
   "cell_type": "code",
   "execution_count": 3,
   "metadata": {
    "colab": {
     "base_uri": "https://localhost:8080/"
    },
    "executionInfo": {
     "elapsed": 21756,
     "status": "ok",
     "timestamp": 1629328651324,
     "user": {
      "displayName": "Junho Park",
      "photoUrl": "https://lh3.googleusercontent.com/a-/AOh14GhWH0H954i4D0PPc6sNLVFrvhJj0CKnJSQoAJisShY=s64",
      "userId": "07513182812079543524"
     },
     "user_tz": 360
    },
    "id": "rLP45jdN53k1",
    "outputId": "28077e6f-8f28-479f-9d4f-f4897446a876"
   },
   "outputs": [
    {
     "name": "stdout",
     "output_type": "stream",
     "text": [
      "Running on Colab\n",
      "Mounted at /content/drive\n"
     ]
    }
   ],
   "source": [
    "#%% Mount Google drive if you use colab for save and load LSTM models\n",
    "if 'google.colab' in str(get_ipython()):\n",
    "  print('Running on Colab')\n",
    "  from google.colab import drive\n",
    "  drive.mount('/content/drive')\n",
    "    \n",
    "else:\n",
    "  print('Not running on Colab')"
   ]
  },
  {
   "cell_type": "code",
   "execution_count": 4,
   "metadata": {
    "executionInfo": {
     "elapsed": 12,
     "status": "ok",
     "timestamp": 1629328651325,
     "user": {
      "displayName": "Junho Park",
      "photoUrl": "https://lh3.googleusercontent.com/a-/AOh14GhWH0H954i4D0PPc6sNLVFrvhJj0CKnJSQoAJisShY=s64",
      "userId": "07513182812079543524"
     },
     "user_tz": 360
    },
    "id": "i83yh7Cx1Q6t"
   },
   "outputs": [],
   "source": [
    "tf = 30 # fianl time"
   ]
  },
  {
   "cell_type": "code",
   "execution_count": 5,
   "metadata": {
    "executionInfo": {
     "elapsed": 11,
     "status": "ok",
     "timestamp": 1629328651326,
     "user": {
      "displayName": "Junho Park",
      "photoUrl": "https://lh3.googleusercontent.com/a-/AOh14GhWH0H954i4D0PPc6sNLVFrvhJj0CKnJSQoAJisShY=s64",
      "userId": "07513182812079543524"
     },
     "user_tz": 360
    },
    "id": "nhcwapOz1Q6u"
   },
   "outputs": [],
   "source": [
    "m=GEKKO(remote=False)\n",
    "m.time = np.linspace(0,tf-1,tf)"
   ]
  },
  {
   "cell_type": "code",
   "execution_count": 6,
   "metadata": {
    "executionInfo": {
     "elapsed": 10,
     "status": "ok",
     "timestamp": 1629328651326,
     "user": {
      "displayName": "Junho Park",
      "photoUrl": "https://lh3.googleusercontent.com/a-/AOh14GhWH0H954i4D0PPc6sNLVFrvhJj0CKnJSQoAJisShY=s64",
      "userId": "07513182812079543524"
     },
     "user_tz": 360
    },
    "id": "RqXLkGSi1Q6u"
   },
   "outputs": [],
   "source": [
    "K = m.FV(1) # Process Gain\n",
    "tau = m.FV(2) # Time Constant"
   ]
  },
  {
   "cell_type": "code",
   "execution_count": 7,
   "metadata": {
    "executionInfo": {
     "elapsed": 10,
     "status": "ok",
     "timestamp": 1629328651327,
     "user": {
      "displayName": "Junho Park",
      "photoUrl": "https://lh3.googleusercontent.com/a-/AOh14GhWH0H954i4D0PPc6sNLVFrvhJj0CKnJSQoAJisShY=s64",
      "userId": "07513182812079543524"
     },
     "user_tz": 360
    },
    "id": "BXVaELJv1Q6u"
   },
   "outputs": [],
   "source": [
    "u_input = np.zeros(tf)\n",
    "u_input[5:] = 1"
   ]
  },
  {
   "cell_type": "code",
   "execution_count": 8,
   "metadata": {
    "executionInfo": {
     "elapsed": 9,
     "status": "ok",
     "timestamp": 1629328651327,
     "user": {
      "displayName": "Junho Park",
      "photoUrl": "https://lh3.googleusercontent.com/a-/AOh14GhWH0H954i4D0PPc6sNLVFrvhJj0CKnJSQoAJisShY=s64",
      "userId": "07513182812079543524"
     },
     "user_tz": 360
    },
    "id": "sKtZqw_N1Q6v"
   },
   "outputs": [],
   "source": [
    "y = m.CV()\n",
    "u = m.MV(u_input)\n",
    "m.Equation(tau*y.dt()+y==K*u) #FOPDT Equation\n",
    "\n",
    "m.options.IMODE=4"
   ]
  },
  {
   "cell_type": "code",
   "execution_count": 9,
   "metadata": {
    "executionInfo": {
     "elapsed": 10,
     "status": "ok",
     "timestamp": 1629328651328,
     "user": {
      "displayName": "Junho Park",
      "photoUrl": "https://lh3.googleusercontent.com/a-/AOh14GhWH0H954i4D0PPc6sNLVFrvhJj0CKnJSQoAJisShY=s64",
      "userId": "07513182812079543524"
     },
     "user_tz": 360
    },
    "id": "1SdxFz671Q6v"
   },
   "outputs": [],
   "source": [
    "m.solve(disp=False)"
   ]
  },
  {
   "cell_type": "code",
   "execution_count": 10,
   "metadata": {
    "colab": {
     "base_uri": "https://localhost:8080/",
     "height": 265
    },
    "executionInfo": {
     "elapsed": 328,
     "status": "ok",
     "timestamp": 1629328651647,
     "user": {
      "displayName": "Junho Park",
      "photoUrl": "https://lh3.googleusercontent.com/a-/AOh14GhWH0H954i4D0PPc6sNLVFrvhJj0CKnJSQoAJisShY=s64",
      "userId": "07513182812079543524"
     },
     "user_tz": 360
    },
    "id": "Kw9lotQP1Q6v",
    "outputId": "7004f1ad-2c97-4b57-b765-21ca178291e2"
   },
   "outputs": [
    {
     "data": {
      "image/png": "[encoded data removed]",
      "text/plain": [
       "<Figure size 432x288 with 2 Axes>"
      ]
     },
     "metadata": {
      "needs_background": "light"
     },
     "output_type": "display_data"
    }
   ],
   "source": [
    "plt.figure(0)\n",
    "plt.subplot(2,1,1)\n",
    "plt.plot(m.time, y)\n",
    "plt.subplot(2,1,2)\n",
    "plt.plot(m.time, u, drawstyle='steps')\n",
    "plt.show()"
   ]
  },
  {
   "cell_type": "markdown",
   "metadata": {
    "id": "QyIKhvPo1Q6w"
   },
   "source": [
    "## 2. Generating input signal (Full Random and LHS)"
   ]
  },
  {
   "cell_type": "code",
   "execution_count": 11,
   "metadata": {
    "colab": {
     "base_uri": "https://localhost:8080/",
     "height": 265
    },
    "executionInfo": {
     "elapsed": 327,
     "status": "ok",
     "timestamp": 1629328651971,
     "user": {
      "displayName": "Junho Park",
      "photoUrl": "https://lh3.googleusercontent.com/a-/AOh14GhWH0H954i4D0PPc6sNLVFrvhJj0CKnJSQoAJisShY=s64",
      "userId": "07513182812079543524"
     },
     "user_tz": 360
    },
    "id": "rLKHfOIV1Q6w",
    "outputId": "583b981d-289f-4762-911a-d7d369ca32e2"
   },
   "outputs": [
    {
     "data": {
      "image/png": "[encoded data removed]",
      "text/plain": [
       "<Figure size 432x288 with 2 Axes>"
      ]
     },
     "metadata": {
      "needs_background": "light"
     },
     "output_type": "display_data"
    }
   ],
   "source": [
    "import numpy as np\n",
    "import matplotlib.pyplot as plt\n",
    "\n",
    "nstep = 1600 # Choose training data length\n",
    "\n",
    "# random signal generation\n",
    "\n",
    "a_range = [0,2]\n",
    "a = np.random.rand(nstep) * (a_range[1]-a_range[0]) + a_range[0] # range for amplitude\n",
    "a[0] = 0\n",
    "\n",
    "b_range = [5, 20]\n",
    "b = np.random.rand(nstep) *(b_range[1]-b_range[0]) + b_range[0] # range for frequency\n",
    "b = np.round(b)\n",
    "b = b.astype(int)\n",
    "\n",
    "b[0] = 0\n",
    "\n",
    "for i in range(1,np.size(b)):\n",
    "    b[i] = b[i-1]+b[i]\n",
    "\n",
    "# Random Signal\n",
    "i=0\n",
    "random_signal = np.zeros(nstep)\n",
    "while b[i]<np.size(random_signal):\n",
    "    k = b[i]\n",
    "    random_signal[k:] = a[i]\n",
    "    i=i+1\n",
    "\n",
    "# PRBS\n",
    "a = np.zeros(nstep)\n",
    "j = 0\n",
    "while j < nstep:\n",
    "    a[j] = 5\n",
    "    a[j+1] = -5\n",
    "    j = j+2\n",
    "\n",
    "i=0\n",
    "prbs = np.zeros(nstep)\n",
    "while b[i]<np.size(prbs):\n",
    "    k = b[i]\n",
    "    prbs[k:] = a[i]\n",
    "    i=i+1\n",
    "\n",
    "plt.figure(0) \n",
    "plt.subplot(2,1,1)\n",
    "plt.plot(random_signal, drawstyle='steps',label='Random Signal')\n",
    "plt.legend()\n",
    "plt.subplot(2,1,2)\n",
    "plt.plot(prbs, drawstyle='steps', label='PRBS')\n",
    "plt.legend()\n",
    "plt.show()"
   ]
  },
  {
   "cell_type": "markdown",
   "metadata": {
    "id": "kJvS_F9I1Q6x"
   },
   "source": [
    "## 3. Evaluate the Random Input Signal"
   ]
  },
  {
   "cell_type": "code",
   "execution_count": 12,
   "metadata": {
    "executionInfo": {
     "elapsed": 7,
     "status": "ok",
     "timestamp": 1629328651972,
     "user": {
      "displayName": "Junho Park",
      "photoUrl": "https://lh3.googleusercontent.com/a-/AOh14GhWH0H954i4D0PPc6sNLVFrvhJj0CKnJSQoAJisShY=s64",
      "userId": "07513182812079543524"
     },
     "user_tz": 360
    },
    "id": "mvYr_lMA1Q6x"
   },
   "outputs": [],
   "source": [
    "tf = nstep\n",
    "m.time = np.linspace(0,tf-1,tf)\n",
    "u.value = random_signal"
   ]
  },
  {
   "cell_type": "code",
   "execution_count": 13,
   "metadata": {
    "executionInfo": {
     "elapsed": 1129,
     "status": "ok",
     "timestamp": 1629328653095,
     "user": {
      "displayName": "Junho Park",
      "photoUrl": "https://lh3.googleusercontent.com/a-/AOh14GhWH0H954i4D0PPc6sNLVFrvhJj0CKnJSQoAJisShY=s64",
      "userId": "07513182812079543524"
     },
     "user_tz": 360
    },
    "id": "GBdLxwvv1Q6x"
   },
   "outputs": [],
   "source": [
    "m.options.IMODE = 4\n",
    "m.solve(disp=False)"
   ]
  },
  {
   "cell_type": "code",
   "execution_count": 15,
   "metadata": {
    "executionInfo": {
     "elapsed": 134,
     "status": "ok",
     "timestamp": 1629328691312,
     "user": {
      "displayName": "Junho Park",
      "photoUrl": "https://lh3.googleusercontent.com/a-/AOh14GhWH0H954i4D0PPc6sNLVFrvhJj0CKnJSQoAJisShY=s64",
      "userId": "07513182812079543524"
     },
     "user_tz": 360
    },
    "id": "LVRbyCSDjOfQ"
   },
   "outputs": [],
   "source": [
    "data = pd.DataFrame(\n",
    "        {\"u\": u,\n",
    "         \"y\": y},\n",
    "        index = np.linspace(1,nstep,nstep,dtype=int))"
   ]
  },
  {
   "cell_type": "code",
   "execution_count": 16,
   "metadata": {
    "executionInfo": {
     "elapsed": 540,
     "status": "ok",
     "timestamp": 1629328816839,
     "user": {
      "displayName": "Junho Park",
      "photoUrl": "https://lh3.googleusercontent.com/a-/AOh14GhWH0H954i4D0PPc6sNLVFrvhJj0CKnJSQoAJisShY=s64",
      "userId": "07513182812079543524"
     },
     "user_tz": 360
    },
    "id": "KnA2ebrTjuGV"
   },
   "outputs": [],
   "source": [
    "data.to_pickle('/content/drive/MyDrive/Transformer_MPC/FOPDT/open_loop_data_SISO.pkl')"
   ]
  },
  {
   "cell_type": "code",
   "execution_count": 17,
   "metadata": {
    "executionInfo": {
     "elapsed": 164,
     "status": "ok",
     "timestamp": 1629328876386,
     "user": {
      "displayName": "Junho Park",
      "photoUrl": "https://lh3.googleusercontent.com/a-/AOh14GhWH0H954i4D0PPc6sNLVFrvhJj0CKnJSQoAJisShY=s64",
      "userId": "07513182812079543524"
     },
     "user_tz": 360
    },
    "id": "ihEEPpHIkN9O"
   },
   "outputs": [],
   "source": [
    "# unpickled = pd.read_pickle('/content/drive/MyDrive/Transformer_MPC/FOPDT/open_loop_data_SISO.pkl')"
   ]
  },
  {
   "cell_type": "code",
   "execution_count": 24,
   "metadata": {
    "colab": {
     "base_uri": "https://localhost:8080/",
     "height": 266
    },
    "executionInfo": {
     "elapsed": 384,
     "status": "ok",
     "timestamp": 1629329022669,
     "user": {
      "displayName": "Junho Park",
      "photoUrl": "https://lh3.googleusercontent.com/a-/AOh14GhWH0H954i4D0PPc6sNLVFrvhJj0CKnJSQoAJisShY=s64",
      "userId": "07513182812079543524"
     },
     "user_tz": 360
    },
    "id": "84zSDCU01Q6x",
    "outputId": "f0c7cf3d-79e6-4109-db87-050862dac6b2"
   },
   "outputs": [
    {
     "data": {
      "image/png": "[encoded data removed]",
      "text/plain": [
       "<Figure size 432x288 with 2 Axes>"
      ]
     },
     "metadata": {
      "needs_background": "light"
     },
     "output_type": "display_data"
    }
   ],
   "source": [
    "plt.figure(0)\n",
    "plt.subplot(2,1,1)\n",
    "plt.plot(m.time, data[\"y\"])\n",
    "plt.subplot(2,1,2)\n",
    "plt.plot(m.time, data[\"u\"], drawstyle='steps')\n",
    "plt.show()"
   ]
  },
  {
   "cell_type": "markdown",
   "metadata": {
    "id": "my0Ilf8q1Q6y"
   },
   "source": [
    "## 4. Train LSTM Network"
   ]
  },
  {
   "cell_type": "code",
   "execution_count": null,
   "metadata": {
    "id": "ohhFp3Lh1Q6y"
   },
   "outputs": [],
   "source": [
    "import pandas as pd\n",
    "import numpy as np\n",
    "import matplotlib.pyplot as plt\n",
    "from sklearn.preprocessing import MinMaxScaler\n",
    "import joblib\n",
    "import time"
   ]
  },
  {
   "cell_type": "code",
   "execution_count": null,
   "metadata": {
    "id": "ebgrINmF1Q6y"
   },
   "outputs": [],
   "source": [
    "# For LSTM model\n",
    "from keras.models import Sequential\n",
    "from keras.layers import Dense\n",
    "from keras.layers import LSTM\n",
    "from keras.layers import Dropout\n",
    "from keras.callbacks import EarlyStopping\n",
    "from keras.models import load_model"
   ]
  },
  {
   "cell_type": "code",
   "execution_count": null,
   "metadata": {
    "id": "4tVqaYD81Q6z"
   },
   "outputs": [],
   "source": [
    "window = 5\n",
    "#Load training data\n",
    "data = pd.DataFrame(\n",
    "        {\"u\": u,\n",
    "         \"y\": y},\n",
    "        index = np.linspace(1,nstep,nstep,dtype=int))"
   ]
  },
  {
   "cell_type": "code",
   "execution_count": null,
   "metadata": {
    "id": "h_PbkNwH1Q6z"
   },
   "outputs": [],
   "source": [
    "# Scale features\n",
    "s1 = MinMaxScaler(feature_range=(-1,1))\n",
    "Xs = s1.fit_transform(data[['u','y']])\n",
    "s2 = MinMaxScaler(feature_range=(-1,1))\n",
    "Ys = s2.fit_transform(data[['y']])"
   ]
  },
  {
   "cell_type": "code",
   "execution_count": null,
   "metadata": {
    "colab": {
     "base_uri": "https://localhost:8080/"
    },
    "executionInfo": {
     "elapsed": 33506,
     "status": "ok",
     "timestamp": 1614103374468,
     "user": {
      "displayName": "Junho Park",
      "photoUrl": "https://lh3.googleusercontent.com/a-/AOh14GhWH0H954i4D0PPc6sNLVFrvhJj0CKnJSQoAJisShY=s64",
      "userId": "07513182812079543524"
     },
     "user_tz": 420
    },
    "id": "tERe7QsCL2Te",
    "outputId": "433d8d03-0b3c-451f-a817-2bb6983b283e"
   },
   "outputs": [
    {
     "data": {
      "text/plain": [
       "(1600, 1)"
      ]
     },
     "execution_count": 19,
     "metadata": {
      "tags": []
     },
     "output_type": "execute_result"
    }
   ],
   "source": [
    "Ys.shape"
   ]
  },
  {
   "cell_type": "code",
   "execution_count": null,
   "metadata": {
    "colab": {
     "base_uri": "https://localhost:8080/"
    },
    "executionInfo": {
     "elapsed": 33501,
     "status": "ok",
     "timestamp": 1614103374468,
     "user": {
      "displayName": "Junho Park",
      "photoUrl": "https://lh3.googleusercontent.com/a-/AOh14GhWH0H954i4D0PPc6sNLVFrvhJj0CKnJSQoAJisShY=s64",
      "userId": "07513182812079543524"
     },
     "user_tz": 420
    },
    "id": "ZiQifNu2s26X",
    "outputId": "21e00e47-f9f4-478c-83a3-23b11be6a5e8"
   },
   "outputs": [
    {
     "data": {
      "text/plain": [
       "(1600, 2)"
      ]
     },
     "execution_count": 20,
     "metadata": {
      "tags": []
     },
     "output_type": "execute_result"
    }
   ],
   "source": [
    "Xs.shape"
   ]
  },
  {
   "cell_type": "code",
   "execution_count": null,
   "metadata": {
    "colab": {
     "base_uri": "https://localhost:8080/",
     "height": 191
    },
    "executionInfo": {
     "elapsed": 33795,
     "status": "ok",
     "timestamp": 1614103374768,
     "user": {
      "displayName": "Junho Park",
      "photoUrl": "https://lh3.googleusercontent.com/a-/AOh14GhWH0H954i4D0PPc6sNLVFrvhJj0CKnJSQoAJisShY=s64",
      "userId": "07513182812079543524"
     },
     "user_tz": 420
    },
    "id": "c_Fa4Zt_1Q6z",
    "outputId": "ee5af27d-7107-4ce4-8e5c-44519bce8d42"
   },
   "outputs": [
    {
     "data": {
      "text/plain": [
       "[<matplotlib.lines.Line2D at 0x7f50ef853110>,\n",
       " <matplotlib.lines.Line2D at 0x7f50ef853350>]"
      ]
     },
     "execution_count": 21,
     "metadata": {
      "tags": []
     },
     "output_type": "execute_result"
    },
    {
     "data": {
      "image/png": "[encoded data removed]",
      "text/plain": [
       "<Figure size 504x144 with 1 Axes>"
      ]
     },
     "metadata": {
      "needs_background": "light",
      "tags": []
     },
     "output_type": "display_data"
    }
   ],
   "source": [
    "plt.figure(figsize=[7,2])\n",
    "plt.plot(Ys)\n",
    "plt.plot(Xs)"
   ]
  },
  {
   "cell_type": "code",
   "execution_count": null,
   "metadata": {
    "colab": {
     "base_uri": "https://localhost:8080/"
    },
    "executionInfo": {
     "elapsed": 34522,
     "status": "ok",
     "timestamp": 1614103375501,
     "user": {
      "displayName": "Junho Park",
      "photoUrl": "https://lh3.googleusercontent.com/a-/AOh14GhWH0H954i4D0PPc6sNLVFrvhJj0CKnJSQoAJisShY=s64",
      "userId": "07513182812079543524"
     },
     "user_tz": 420
    },
    "id": "kad2Vc2S1Q60",
    "outputId": "34846e8d-9f61-4b19-e059-e937f7bf0cae"
   },
   "outputs": [
    {
     "name": "stdout",
     "output_type": "stream",
     "text": [
      "Running on Colab\n"
     ]
    }
   ],
   "source": [
    "#%% Save MinMaxScaler file\n",
    "if 'google.colab' in str(get_ipython()):\n",
    "  print('Running on Colab')\n",
    "  joblib.dump(s1, '/content/drive/MyDrive/LSTM_MPC/FOPDT/s1.sav')\n",
    "  joblib.dump(s2, '/content/drive/MyDrive/LSTM_MPC/FOPDT/s2.sav')\n",
    "    \n",
    "else:\n",
    "  print('Not running on Colab')\n",
    "  joblib.dump(s1, 's1.sav')\n",
    "  joblib.dump(s2, 's2.sav')"
   ]
  },
  {
   "cell_type": "code",
   "execution_count": null,
   "metadata": {
    "colab": {
     "base_uri": "https://localhost:8080/"
    },
    "executionInfo": {
     "elapsed": 34520,
     "status": "ok",
     "timestamp": 1614103375505,
     "user": {
      "displayName": "Junho Park",
      "photoUrl": "https://lh3.googleusercontent.com/a-/AOh14GhWH0H954i4D0PPc6sNLVFrvhJj0CKnJSQoAJisShY=s64",
      "userId": "07513182812079543524"
     },
     "user_tz": 420
    },
    "id": "XCRJSpevu-xa",
    "outputId": "1f75ed14-b7c7-4694-bdc3-61a2ef01badb"
   },
   "outputs": [
    {
     "name": "stdout",
     "output_type": "stream",
     "text": [
      "800\n"
     ]
    }
   ],
   "source": [
    "val_ratio = 0.5\n",
    "cut_index = np.int(nstep*val_ratio) # index number to separate the training and validation set\n",
    "print(cut_index)\n",
    "Xs_train = Xs[0:cut_index]\n",
    "Ys_train = Ys[0:cut_index]\n",
    "Xs_val = Xs[cut_index:]\n",
    "Ys_val = Ys[cut_index:]"
   ]
  },
  {
   "cell_type": "code",
   "execution_count": null,
   "metadata": {
    "id": "LxBU0nHt1Q60"
   },
   "outputs": [],
   "source": [
    "X_train = []\n",
    "Y_train = []\n",
    "for i in range(window,len(Xs_train)):\n",
    "    X_train.append(Xs_train[i-window:i,:])\n",
    "    Y_train.append(Ys_train[i])\n",
    "\n",
    "X_val = []\n",
    "Y_val = []\n",
    "for i in range(window,len(Xs_val)):\n",
    "    X_val.append(Xs_val[i-window:i,:])\n",
    "    Y_val.append(Ys_val[i])\n"
   ]
  },
  {
   "cell_type": "code",
   "execution_count": null,
   "metadata": {
    "id": "2MbYEo5k1Q61"
   },
   "outputs": [],
   "source": [
    "# Reshape data to format accepted by LSTM\n",
    "X_train, Y_train = np.array(X_train), np.array(Y_train)\n",
    "X_val, Y_val = np.array(X_val), np.array(Y_val)"
   ]
  },
  {
   "cell_type": "code",
   "execution_count": null,
   "metadata": {
    "colab": {
     "base_uri": "https://localhost:8080/"
    },
    "executionInfo": {
     "elapsed": 34510,
     "status": "ok",
     "timestamp": 1614103375507,
     "user": {
      "displayName": "Junho Park",
      "photoUrl": "https://lh3.googleusercontent.com/a-/AOh14GhWH0H954i4D0PPc6sNLVFrvhJj0CKnJSQoAJisShY=s64",
      "userId": "07513182812079543524"
     },
     "user_tz": 420
    },
    "id": "m240f0CRrD7d",
    "outputId": "c4b8e005-3e79-44dc-92f5-c9ec98e3dd50"
   },
   "outputs": [
    {
     "data": {
      "text/plain": [
       "((795, 5, 2), (795, 1))"
      ]
     },
     "execution_count": 26,
     "metadata": {
      "tags": []
     },
     "output_type": "execute_result"
    }
   ],
   "source": [
    "np.shape(X_train), np.shape(Y_train)"
   ]
  },
  {
   "cell_type": "code",
   "execution_count": null,
   "metadata": {
    "colab": {
     "base_uri": "https://localhost:8080/"
    },
    "executionInfo": {
     "elapsed": 34505,
     "status": "ok",
     "timestamp": 1614103375507,
     "user": {
      "displayName": "Junho Park",
      "photoUrl": "https://lh3.googleusercontent.com/a-/AOh14GhWH0H954i4D0PPc6sNLVFrvhJj0CKnJSQoAJisShY=s64",
      "userId": "07513182812079543524"
     },
     "user_tz": 420
    },
    "id": "iJXwXFEhdl9S",
    "outputId": "a815f310-6676-4163-f89e-40e3627b33d6"
   },
   "outputs": [
    {
     "data": {
      "text/plain": [
       "1"
      ]
     },
     "execution_count": 27,
     "metadata": {
      "tags": []
     },
     "output_type": "execute_result"
    }
   ],
   "source": [
    "Y_train.shape[1]"
   ]
  },
  {
   "cell_type": "code",
   "execution_count": null,
   "metadata": {
    "id": "aDgKXYv-1Q61"
   },
   "outputs": [],
   "source": [
    "# # Initialize LSTM model\n",
    "model = Sequential()\n",
    "\n",
    "model.add(LSTM(units=100, return_sequences=True, \\\n",
    "          input_shape=(X_train.shape[1],X_train.shape[2])))\n",
    "model.add(Dropout(0.2))\n",
    "model.add(LSTM(units=100, return_sequences=True))\n",
    "model.add(Dropout(0.2))\n",
    "model.add(LSTM(units=100))\n",
    "model.add(Dropout(0.2))\n",
    "model.add(Dense(units=Y_train.shape[1])) #units = number of outputs\n",
    "model.compile(optimizer = 'adam', loss = 'mean_squared_error',\\\n",
    "              metrics = ['accuracy'])\n",
    "# Allow for early exit\n",
    "es = EarlyStopping(monitor='loss',mode='min',verbose=1,patience=10)"
   ]
  },
  {
   "cell_type": "code",
   "execution_count": null,
   "metadata": {
    "colab": {
     "base_uri": "https://localhost:8080/"
    },
    "executionInfo": {
     "elapsed": 56948,
     "status": "ok",
     "timestamp": 1614103397961,
     "user": {
      "displayName": "Junho Park",
      "photoUrl": "https://lh3.googleusercontent.com/a-/AOh14GhWH0H954i4D0PPc6sNLVFrvhJj0CKnJSQoAJisShY=s64",
      "userId": "07513182812079543524"
     },
     "user_tz": 420
    },
    "id": "T3t1zXh52Z8I",
    "outputId": "3b359d83-fc3c-4eec-e284-d1f90b9f2475"
   },
   "outputs": [
    {
     "name": "stdout",
     "output_type": "stream",
     "text": [
      "Epoch 1/300\n",
      "4/4 [==============================] - 11s 379ms/step - loss: 0.2828 - accuracy: 0.0000e+00 - val_loss: 0.1825 - val_accuracy: 0.0000e+00\n",
      "Epoch 2/300\n",
      "4/4 [==============================] - 0s 19ms/step - loss: 0.1935 - accuracy: 0.0000e+00 - val_loss: 0.1124 - val_accuracy: 0.0000e+00\n",
      "Epoch 3/300\n",
      "4/4 [==============================] - 0s 18ms/step - loss: 0.1103 - accuracy: 0.0000e+00 - val_loss: 0.1076 - val_accuracy: 0.0000e+00\n",
      "Epoch 4/300\n",
      "4/4 [==============================] - 0s 19ms/step - loss: 0.1053 - accuracy: 0.0020 - val_loss: 0.0613 - val_accuracy: 0.0000e+00\n",
      "Epoch 5/300\n",
      "4/4 [==============================] - 0s 20ms/step - loss: 0.0597 - accuracy: 0.0020 - val_loss: 0.0569 - val_accuracy: 0.0000e+00\n",
      "Epoch 6/300\n",
      "4/4 [==============================] - 0s 19ms/step - loss: 0.0670 - accuracy: 0.0012 - val_loss: 0.0552 - val_accuracy: 0.0000e+00\n",
      "Epoch 7/300\n",
      "4/4 [==============================] - 0s 17ms/step - loss: 0.0639 - accuracy: 7.6981e-04 - val_loss: 0.0521 - val_accuracy: 0.0000e+00\n",
      "Epoch 8/300\n",
      "4/4 [==============================] - 0s 17ms/step - loss: 0.0543 - accuracy: 0.0020 - val_loss: 0.0449 - val_accuracy: 0.0000e+00\n",
      "Epoch 9/300\n",
      "4/4 [==============================] - 0s 18ms/step - loss: 0.0487 - accuracy: 5.0314e-04 - val_loss: 0.0425 - val_accuracy: 0.0000e+00\n",
      "Epoch 10/300\n",
      "4/4 [==============================] - 0s 18ms/step - loss: 0.0464 - accuracy: 0.0020 - val_loss: 0.0414 - val_accuracy: 0.0000e+00\n",
      "Epoch 11/300\n",
      "4/4 [==============================] - 0s 18ms/step - loss: 0.0458 - accuracy: 0.0020 - val_loss: 0.0384 - val_accuracy: 0.0000e+00\n",
      "Epoch 12/300\n",
      "4/4 [==============================] - 0s 18ms/step - loss: 0.0407 - accuracy: 7.6981e-04 - val_loss: 0.0350 - val_accuracy: 0.0000e+00\n",
      "Epoch 13/300\n",
      "4/4 [==============================] - 0s 17ms/step - loss: 0.0395 - accuracy: 0.0020 - val_loss: 0.0324 - val_accuracy: 0.0000e+00\n",
      "Epoch 14/300\n",
      "4/4 [==============================] - 0s 18ms/step - loss: 0.0356 - accuracy: 0.0012 - val_loss: 0.0304 - val_accuracy: 0.0000e+00\n",
      "Epoch 15/300\n",
      "4/4 [==============================] - 0s 18ms/step - loss: 0.0344 - accuracy: 0.0020 - val_loss: 0.0285 - val_accuracy: 0.0000e+00\n",
      "Epoch 16/300\n",
      "4/4 [==============================] - 0s 18ms/step - loss: 0.0346 - accuracy: 0.0012 - val_loss: 0.0275 - val_accuracy: 0.0000e+00\n",
      "Epoch 17/300\n",
      "4/4 [==============================] - 0s 18ms/step - loss: 0.0317 - accuracy: 0.0012 - val_loss: 0.0261 - val_accuracy: 0.0000e+00\n",
      "Epoch 18/300\n",
      "4/4 [==============================] - 0s 21ms/step - loss: 0.0306 - accuracy: 7.6981e-04 - val_loss: 0.0247 - val_accuracy: 0.0000e+00\n",
      "Epoch 19/300\n",
      "4/4 [==============================] - 0s 19ms/step - loss: 0.0269 - accuracy: 7.6981e-04 - val_loss: 0.0235 - val_accuracy: 0.0000e+00\n",
      "Epoch 20/300\n",
      "4/4 [==============================] - 0s 21ms/step - loss: 0.0284 - accuracy: 7.6981e-04 - val_loss: 0.0221 - val_accuracy: 0.0000e+00\n",
      "Epoch 21/300\n",
      "4/4 [==============================] - 0s 18ms/step - loss: 0.0257 - accuracy: 0.0012 - val_loss: 0.0203 - val_accuracy: 0.0000e+00\n",
      "Epoch 22/300\n",
      "4/4 [==============================] - 0s 19ms/step - loss: 0.0239 - accuracy: 0.0020 - val_loss: 0.0192 - val_accuracy: 0.0000e+00\n",
      "Epoch 23/300\n",
      "4/4 [==============================] - 0s 18ms/step - loss: 0.0213 - accuracy: 0.0020 - val_loss: 0.0181 - val_accuracy: 0.0000e+00\n",
      "Epoch 24/300\n",
      "4/4 [==============================] - 0s 19ms/step - loss: 0.0212 - accuracy: 0.0020 - val_loss: 0.0173 - val_accuracy: 0.0000e+00\n",
      "Epoch 25/300\n",
      "4/4 [==============================] - 0s 18ms/step - loss: 0.0201 - accuracy: 0.0012 - val_loss: 0.0167 - val_accuracy: 0.0000e+00\n",
      "Epoch 26/300\n",
      "4/4 [==============================] - 0s 18ms/step - loss: 0.0195 - accuracy: 7.6981e-04 - val_loss: 0.0154 - val_accuracy: 0.0000e+00\n",
      "Epoch 27/300\n",
      "4/4 [==============================] - 0s 18ms/step - loss: 0.0189 - accuracy: 7.6981e-04 - val_loss: 0.0149 - val_accuracy: 0.0000e+00\n",
      "Epoch 28/300\n",
      "4/4 [==============================] - 0s 19ms/step - loss: 0.0187 - accuracy: 7.6981e-04 - val_loss: 0.0136 - val_accuracy: 0.0000e+00\n",
      "Epoch 29/300\n",
      "4/4 [==============================] - 0s 19ms/step - loss: 0.0170 - accuracy: 0.0020 - val_loss: 0.0130 - val_accuracy: 0.0000e+00\n",
      "Epoch 30/300\n",
      "4/4 [==============================] - 0s 20ms/step - loss: 0.0157 - accuracy: 7.6981e-04 - val_loss: 0.0128 - val_accuracy: 0.0000e+00\n",
      "Epoch 31/300\n",
      "4/4 [==============================] - 0s 18ms/step - loss: 0.0146 - accuracy: 0.0012 - val_loss: 0.0124 - val_accuracy: 0.0000e+00\n",
      "Epoch 32/300\n",
      "4/4 [==============================] - 0s 19ms/step - loss: 0.0152 - accuracy: 7.6981e-04 - val_loss: 0.0118 - val_accuracy: 0.0000e+00\n",
      "Epoch 33/300\n",
      "4/4 [==============================] - 0s 18ms/step - loss: 0.0159 - accuracy: 0.0020 - val_loss: 0.0111 - val_accuracy: 0.0000e+00\n",
      "Epoch 34/300\n",
      "4/4 [==============================] - 0s 19ms/step - loss: 0.0150 - accuracy: 7.6981e-04 - val_loss: 0.0113 - val_accuracy: 0.0000e+00\n",
      "Epoch 35/300\n",
      "4/4 [==============================] - 0s 20ms/step - loss: 0.0156 - accuracy: 7.6981e-04 - val_loss: 0.0108 - val_accuracy: 0.0000e+00\n",
      "Epoch 36/300\n",
      "4/4 [==============================] - 0s 19ms/step - loss: 0.0135 - accuracy: 0.0020 - val_loss: 0.0106 - val_accuracy: 0.0000e+00\n",
      "Epoch 37/300\n",
      "4/4 [==============================] - 0s 18ms/step - loss: 0.0128 - accuracy: 0.0012 - val_loss: 0.0109 - val_accuracy: 0.0000e+00\n",
      "Epoch 38/300\n",
      "4/4 [==============================] - 0s 18ms/step - loss: 0.0143 - accuracy: 7.6981e-04 - val_loss: 0.0102 - val_accuracy: 0.0000e+00\n",
      "Epoch 39/300\n",
      "4/4 [==============================] - 0s 19ms/step - loss: 0.0127 - accuracy: 0.0020 - val_loss: 0.0094 - val_accuracy: 0.0000e+00\n",
      "Epoch 40/300\n",
      "4/4 [==============================] - 0s 18ms/step - loss: 0.0122 - accuracy: 0.0020 - val_loss: 0.0091 - val_accuracy: 0.0000e+00\n",
      "Epoch 41/300\n",
      "4/4 [==============================] - 0s 18ms/step - loss: 0.0118 - accuracy: 7.6981e-04 - val_loss: 0.0091 - val_accuracy: 0.0000e+00\n",
      "Epoch 42/300\n",
      "4/4 [==============================] - 0s 19ms/step - loss: 0.0126 - accuracy: 7.6981e-04 - val_loss: 0.0089 - val_accuracy: 0.0000e+00\n",
      "Epoch 43/300\n",
      "4/4 [==============================] - 0s 17ms/step - loss: 0.0120 - accuracy: 7.6981e-04 - val_loss: 0.0090 - val_accuracy: 0.0000e+00\n",
      "Epoch 44/300\n",
      "4/4 [==============================] - 0s 19ms/step - loss: 0.0117 - accuracy: 0.0012 - val_loss: 0.0086 - val_accuracy: 0.0000e+00\n",
      "Epoch 45/300\n",
      "4/4 [==============================] - 0s 18ms/step - loss: 0.0123 - accuracy: 7.6981e-04 - val_loss: 0.0081 - val_accuracy: 0.0000e+00\n",
      "Epoch 46/300\n",
      "4/4 [==============================] - 0s 19ms/step - loss: 0.0107 - accuracy: 5.0314e-04 - val_loss: 0.0080 - val_accuracy: 0.0000e+00\n",
      "Epoch 47/300\n",
      "4/4 [==============================] - 0s 18ms/step - loss: 0.0113 - accuracy: 7.6981e-04 - val_loss: 0.0084 - val_accuracy: 0.0000e+00\n",
      "Epoch 48/300\n",
      "4/4 [==============================] - 0s 19ms/step - loss: 0.0112 - accuracy: 0.0020 - val_loss: 0.0083 - val_accuracy: 0.0000e+00\n",
      "Epoch 49/300\n",
      "4/4 [==============================] - 0s 19ms/step - loss: 0.0108 - accuracy: 0.0012 - val_loss: 0.0076 - val_accuracy: 0.0000e+00\n",
      "Epoch 50/300\n",
      "4/4 [==============================] - 0s 21ms/step - loss: 0.0107 - accuracy: 0.0020 - val_loss: 0.0073 - val_accuracy: 0.0000e+00\n",
      "Epoch 51/300\n",
      "4/4 [==============================] - 0s 18ms/step - loss: 0.0104 - accuracy: 7.6981e-04 - val_loss: 0.0073 - val_accuracy: 0.0000e+00\n",
      "Epoch 52/300\n",
      "4/4 [==============================] - 0s 20ms/step - loss: 0.0088 - accuracy: 0.0012 - val_loss: 0.0072 - val_accuracy: 0.0000e+00\n",
      "Epoch 53/300\n",
      "4/4 [==============================] - 0s 18ms/step - loss: 0.0094 - accuracy: 0.0012 - val_loss: 0.0069 - val_accuracy: 0.0000e+00\n",
      "Epoch 54/300\n",
      "4/4 [==============================] - 0s 18ms/step - loss: 0.0098 - accuracy: 0.0020 - val_loss: 0.0067 - val_accuracy: 0.0000e+00\n",
      "Epoch 55/300\n",
      "4/4 [==============================] - 0s 18ms/step - loss: 0.0096 - accuracy: 0.0012 - val_loss: 0.0067 - val_accuracy: 0.0000e+00\n",
      "Epoch 56/300\n",
      "4/4 [==============================] - 0s 20ms/step - loss: 0.0085 - accuracy: 7.6981e-04 - val_loss: 0.0068 - val_accuracy: 0.0000e+00\n",
      "Epoch 57/300\n",
      "4/4 [==============================] - 0s 19ms/step - loss: 0.0096 - accuracy: 0.0012 - val_loss: 0.0066 - val_accuracy: 0.0000e+00\n",
      "Epoch 58/300\n",
      "4/4 [==============================] - 0s 19ms/step - loss: 0.0094 - accuracy: 0.0012 - val_loss: 0.0064 - val_accuracy: 0.0000e+00\n",
      "Epoch 59/300\n",
      "4/4 [==============================] - 0s 18ms/step - loss: 0.0092 - accuracy: 0.0012 - val_loss: 0.0064 - val_accuracy: 0.0000e+00\n",
      "Epoch 60/300\n",
      "4/4 [==============================] - 0s 20ms/step - loss: 0.0088 - accuracy: 7.6981e-04 - val_loss: 0.0066 - val_accuracy: 0.0000e+00\n",
      "Epoch 61/300\n",
      "4/4 [==============================] - 0s 19ms/step - loss: 0.0092 - accuracy: 0.0020 - val_loss: 0.0063 - val_accuracy: 0.0000e+00\n",
      "Epoch 62/300\n",
      "4/4 [==============================] - 0s 19ms/step - loss: 0.0086 - accuracy: 0.0020 - val_loss: 0.0061 - val_accuracy: 0.0000e+00\n",
      "Epoch 63/300\n",
      "4/4 [==============================] - 0s 18ms/step - loss: 0.0078 - accuracy: 5.0314e-04 - val_loss: 0.0060 - val_accuracy: 0.0000e+00\n",
      "Epoch 64/300\n",
      "4/4 [==============================] - 0s 19ms/step - loss: 0.0078 - accuracy: 0.0020 - val_loss: 0.0061 - val_accuracy: 0.0000e+00\n",
      "Epoch 65/300\n",
      "4/4 [==============================] - 0s 19ms/step - loss: 0.0090 - accuracy: 0.0020 - val_loss: 0.0060 - val_accuracy: 0.0000e+00\n",
      "Epoch 66/300\n",
      "4/4 [==============================] - 0s 19ms/step - loss: 0.0083 - accuracy: 7.6981e-04 - val_loss: 0.0059 - val_accuracy: 0.0000e+00\n",
      "Epoch 67/300\n",
      "4/4 [==============================] - 0s 18ms/step - loss: 0.0081 - accuracy: 7.6981e-04 - val_loss: 0.0059 - val_accuracy: 0.0000e+00\n",
      "Epoch 68/300\n",
      "4/4 [==============================] - 0s 19ms/step - loss: 0.0091 - accuracy: 0.0020 - val_loss: 0.0060 - val_accuracy: 0.0000e+00\n",
      "Epoch 69/300\n",
      "4/4 [==============================] - 0s 17ms/step - loss: 0.0081 - accuracy: 0.0020 - val_loss: 0.0059 - val_accuracy: 0.0000e+00\n",
      "Epoch 70/300\n",
      "4/4 [==============================] - 0s 18ms/step - loss: 0.0080 - accuracy: 0.0012 - val_loss: 0.0057 - val_accuracy: 0.0000e+00\n",
      "Epoch 71/300\n",
      "4/4 [==============================] - 0s 18ms/step - loss: 0.0088 - accuracy: 0.0012 - val_loss: 0.0057 - val_accuracy: 0.0000e+00\n",
      "Epoch 72/300\n",
      "4/4 [==============================] - 0s 19ms/step - loss: 0.0085 - accuracy: 0.0012 - val_loss: 0.0058 - val_accuracy: 0.0000e+00\n",
      "Epoch 73/300\n",
      "4/4 [==============================] - 0s 17ms/step - loss: 0.0076 - accuracy: 0.0020 - val_loss: 0.0061 - val_accuracy: 0.0000e+00\n",
      "Epoch 74/300\n",
      "4/4 [==============================] - 0s 17ms/step - loss: 0.0085 - accuracy: 7.6981e-04 - val_loss: 0.0057 - val_accuracy: 0.0000e+00\n",
      "Epoch 00074: early stopping\n",
      "Runtime: 16.02 s\n"
     ]
    }
   ],
   "source": [
    "# Fit (and time) LSTM model\n",
    "t0 = time.time()\n",
    "history = model.fit(X_train, Y_train, epochs = 300, batch_size = 250, callbacks=[es], verbose=1, validation_data=(X_val, Y_val))\n",
    "t1 = time.time()\n",
    "print('Runtime: %.2f s' %(t1-t0))"
   ]
  },
  {
   "cell_type": "code",
   "execution_count": null,
   "metadata": {
    "colab": {
     "base_uri": "https://localhost:8080/",
     "height": 351
    },
    "executionInfo": {
     "elapsed": 57216,
     "status": "ok",
     "timestamp": 1614103398236,
     "user": {
      "displayName": "Junho Park",
      "photoUrl": "https://lh3.googleusercontent.com/a-/AOh14GhWH0H954i4D0PPc6sNLVFrvhJj0CKnJSQoAJisShY=s64",
      "userId": "07513182812079543524"
     },
     "user_tz": 420
    },
    "id": "7rkoiWOv4SAV",
    "outputId": "74661150-2fad-4006-892f-03e1c1003c45"
   },
   "outputs": [
    {
     "data": {
      "text/plain": [
       "<matplotlib.legend.Legend at 0x7f5086de7a50>"
      ]
     },
     "execution_count": 30,
     "metadata": {
      "tags": []
     },
     "output_type": "execute_result"
    },
    {
     "data": {
      "image/png": "[encoded data removed]",
      "text/plain": [
       "<Figure size 432x360 with 1 Axes>"
      ]
     },
     "metadata": {
      "needs_background": "light",
      "tags": []
     },
     "output_type": "display_data"
    }
   ],
   "source": [
    "# Plot loss\n",
    "plt.figure(figsize=(6,5))\n",
    "plt.semilogy(history.history['loss'],label='train_loss')\n",
    "plt.semilogy(history.history['val_loss'],label='val_loss')\n",
    "plt.xlabel('epoch'); plt.ylabel('loss')\n",
    "# plt.savefig('FOPDT_loss.png')\n",
    "plt.legend()"
   ]
  },
  {
   "cell_type": "code",
   "execution_count": null,
   "metadata": {
    "colab": {
     "base_uri": "https://localhost:8080/"
    },
    "executionInfo": {
     "elapsed": 57692,
     "status": "ok",
     "timestamp": 1614103398719,
     "user": {
      "displayName": "Junho Park",
      "photoUrl": "https://lh3.googleusercontent.com/a-/AOh14GhWH0H954i4D0PPc6sNLVFrvhJj0CKnJSQoAJisShY=s64",
      "userId": "07513182812079543524"
     },
     "user_tz": 420
    },
    "id": "5ydDHgkM7JTU",
    "outputId": "d1c3e2c6-d595-4e2d-9034-d75a7b37892d"
   },
   "outputs": [
    {
     "name": "stdout",
     "output_type": "stream",
     "text": [
      "Running on Colab\n"
     ]
    }
   ],
   "source": [
    "#%% Save model file\n",
    "if 'google.colab' in str(get_ipython()):\n",
    "  print('Running on Colab')\n",
    "  model.save('/content/drive/MyDrive/LSTM_MPC/FOPDT/model.h5')\n",
    "    \n",
    "else:\n",
    "  print('Not running on Colab')\n",
    "  model.save('model.h5')"
   ]
  },
  {
   "cell_type": "markdown",
   "metadata": {
    "id": "iqk4l7Vmzyht"
   },
   "source": [
    "## 5. Using measured values to predict next step"
   ]
  },
  {
   "cell_type": "code",
   "execution_count": null,
   "metadata": {
    "colab": {
     "base_uri": "https://localhost:8080/"
    },
    "executionInfo": {
     "elapsed": 58486,
     "status": "ok",
     "timestamp": 1614103399520,
     "user": {
      "displayName": "Junho Park",
      "photoUrl": "https://lh3.googleusercontent.com/a-/AOh14GhWH0H954i4D0PPc6sNLVFrvhJj0CKnJSQoAJisShY=s64",
      "userId": "07513182812079543524"
     },
     "user_tz": 420
    },
    "id": "vOi7NSOSlLfk",
    "outputId": "7f718af0-e70d-4b3b-dd6e-80fe9b2becf2"
   },
   "outputs": [
    {
     "name": "stdout",
     "output_type": "stream",
     "text": [
      "Running on Colab\n"
     ]
    }
   ],
   "source": [
    "if 'google.colab' in str(get_ipython()):\n",
    "  print('Running on Colab')\n",
    "  model = load_model('/content/drive/MyDrive/LSTM_MPC/FOPDT/model.h5')\n",
    "  \n",
    "else:\n",
    "  print('Not running on Colab')\n",
    "  model = load_model('model.h5')"
   ]
  },
  {
   "cell_type": "code",
   "execution_count": null,
   "metadata": {
    "id": "S7e7H4BQ7XUh"
   },
   "outputs": [],
   "source": [
    "Yp_train = model.predict(X_train)"
   ]
  },
  {
   "cell_type": "code",
   "execution_count": null,
   "metadata": {
    "colab": {
     "base_uri": "https://localhost:8080/"
    },
    "executionInfo": {
     "elapsed": 59333,
     "status": "ok",
     "timestamp": 1614103400379,
     "user": {
      "displayName": "Junho Park",
      "photoUrl": "https://lh3.googleusercontent.com/a-/AOh14GhWH0H954i4D0PPc6sNLVFrvhJj0CKnJSQoAJisShY=s64",
      "userId": "07513182812079543524"
     },
     "user_tz": 420
    },
    "id": "cC6Q1qYh7asb",
    "outputId": "cd8b3846-9ce4-456b-bee0-25871ed3b6b5"
   },
   "outputs": [
    {
     "data": {
      "text/plain": [
       "(795, 1)"
      ]
     },
     "execution_count": 34,
     "metadata": {
      "tags": []
     },
     "output_type": "execute_result"
    }
   ],
   "source": [
    "np.shape(Yp_train)"
   ]
  },
  {
   "cell_type": "code",
   "execution_count": null,
   "metadata": {
    "colab": {
     "base_uri": "https://localhost:8080/",
     "height": 190
    },
    "executionInfo": {
     "elapsed": 59919,
     "status": "ok",
     "timestamp": 1614103400972,
     "user": {
      "displayName": "Junho Park",
      "photoUrl": "https://lh3.googleusercontent.com/a-/AOh14GhWH0H954i4D0PPc6sNLVFrvhJj0CKnJSQoAJisShY=s64",
      "userId": "07513182812079543524"
     },
     "user_tz": 420
    },
    "id": "euUUzLYa4pJW",
    "outputId": "900077aa-ce16-4f6e-ab9a-bb264a9845ab"
   },
   "outputs": [
    {
     "data": {
      "text/plain": [
       "<matplotlib.legend.Legend at 0x7f509093ee90>"
      ]
     },
     "execution_count": 35,
     "metadata": {
      "tags": []
     },
     "output_type": "execute_result"
    },
    {
     "data": {
      "image/png": "[encoded data removed]",
      "text/plain": [
       "<Figure size 864x144 with 2 Axes>"
      ]
     },
     "metadata": {
      "needs_background": "light",
      "tags": []
     },
     "output_type": "display_data"
    }
   ],
   "source": [
    "# Verify the fit of the model\n",
    "Yp_train = model.predict(X_train)\n",
    "Yp_val = model.predict(X_val)\n",
    "\n",
    "# un-scale outputs\n",
    "Yu_train = s2.inverse_transform(Yp_train)\n",
    "Ym_train = s2.inverse_transform(Y_train)\n",
    "\n",
    "Yu_val = s2.inverse_transform(Yp_val)\n",
    "Ym_val = s2.inverse_transform(Y_val)\n",
    "\n",
    "plt.figure(0, figsize=(12,2))\n",
    "plt.subplot(1,2,1)\n",
    "plt.plot(data.index[window:cut_index],Yu_train[:,0],'r-',label='LSTM')\n",
    "plt.plot(data.index[window:cut_index],Ym_train[:,0],'b--',label='Measured')\n",
    "plt.title('Training')\n",
    "plt.legend()\n",
    "plt.subplot(1,2,2)\n",
    "plt.plot(data.index[cut_index+window:],Yu_val[:,0],'r-',label='LSTM')\n",
    "plt.plot(data.index[cut_index+window:],Ym_val[:,0],'b--',label='Measured')\n",
    "plt.title('Validation')\n",
    "plt.legend()"
   ]
  },
  {
   "cell_type": "markdown",
   "metadata": {
    "id": "4EheqOQgU582"
   },
   "source": [
    "## 6. Using predicted values to predict next step"
   ]
  },
  {
   "cell_type": "code",
   "execution_count": null,
   "metadata": {
    "colab": {
     "base_uri": "https://localhost:8080/"
    },
    "executionInfo": {
     "elapsed": 60618,
     "status": "ok",
     "timestamp": 1614103401677,
     "user": {
      "displayName": "Junho Park",
      "photoUrl": "https://lh3.googleusercontent.com/a-/AOh14GhWH0H954i4D0PPc6sNLVFrvhJj0CKnJSQoAJisShY=s64",
      "userId": "07513182812079543524"
     },
     "user_tz": 420
    },
    "id": "tijZ7NNTv-dT",
    "outputId": "071f2611-44c9-447b-dcd1-f4da20b761b0"
   },
   "outputs": [
    {
     "name": "stdout",
     "output_type": "stream",
     "text": [
      "Running on Colab\n"
     ]
    }
   ],
   "source": [
    "# Load model files (LSTM and MinMaxScaler)\n",
    "if 'google.colab' in str(get_ipython()):\n",
    "  print('Running on Colab')\n",
    "  model = load_model('/content/drive/MyDrive/LSTM_MPC/FOPDT/model.h5')\n",
    "  s1 = joblib.load('/content/drive/MyDrive/LSTM_MPC/FOPDT/s1.sav')\n",
    "  s2 = joblib.load('/content/drive/MyDrive/LSTM_MPC/FOPDT/s2.sav')\n",
    "  \n",
    "else:\n",
    "  print('Not running on Colab')\n",
    "  model = load_model('model.h5')\n",
    "  s1 = joblib.load('s1.sav')\n",
    "  s2 = joblib.load('s2.sav')"
   ]
  },
  {
   "cell_type": "code",
   "execution_count": null,
   "metadata": {
    "id": "3zP4QBU03BiT"
   },
   "outputs": [],
   "source": [
    "Xsq = Xs.copy()   # Xs : scaled data before appending the array with window size\n",
    "Ysq = Ys.copy()\n",
    "for i in range(window,len(Xsq)):\n",
    "    Xin = Xsq[i-window:i].reshape((1, window, np.shape(Xsq)[1]))\n",
    "    Xsq[i][(Xs.shape[1] - Ys.shape[1]):] = model.predict(Xin) \n",
    "    # (Xs.shape[1]-Ys.shape[1]) indicates the index of the \n",
    "    # first 'system' output variable in the 'LSTM' input array\n",
    "    Ysq[i] = Xsq[i][(Xs.shape[1] - Ys.shape[1]):]\n",
    "\n",
    "Ytu = s2.inverse_transform(Ysq)\n",
    "# Break Ytu into train and validation set for plotting\n",
    "Ytu_train = Ytu[window:cut_index]\n",
    "Ytu_val = Ytu[cut_index+window:]"
   ]
  },
  {
   "cell_type": "code",
   "execution_count": null,
   "metadata": {
    "colab": {
     "base_uri": "https://localhost:8080/",
     "height": 190
    },
    "executionInfo": {
     "elapsed": 109737,
     "status": "ok",
     "timestamp": 1614103450805,
     "user": {
      "displayName": "Junho Park",
      "photoUrl": "https://lh3.googleusercontent.com/a-/AOh14GhWH0H954i4D0PPc6sNLVFrvhJj0CKnJSQoAJisShY=s64",
      "userId": "07513182812079543524"
     },
     "user_tz": 420
    },
    "id": "Ucfulp6f3GZk",
    "outputId": "de23a352-25d2-42f8-d745-033ffccd9825"
   },
   "outputs": [
    {
     "data": {
      "text/plain": [
       "<matplotlib.legend.Legend at 0x7f508269e650>"
      ]
     },
     "execution_count": 38,
     "metadata": {
      "tags": []
     },
     "output_type": "execute_result"
    },
    {
     "data": {
      "image/png": "[encoded data removed]",
      "text/plain": [
       "<Figure size 864x144 with 2 Axes>"
      ]
     },
     "metadata": {
      "needs_background": "light",
      "tags": []
     },
     "output_type": "display_data"
    }
   ],
   "source": [
    "plt.figure(0, figsize=(12,2))\n",
    "plt.subplot(1,2,1)\n",
    "plt.plot(data.index[window:cut_index],Ytu_train[:,0],'r-',label='LSTM')\n",
    "plt.plot(data.index[window:cut_index],Ym_train[:,0],'b--',label='Measured')\n",
    "plt.title('Training')\n",
    "plt.legend()\n",
    "plt.subplot(1,2,2)\n",
    "plt.plot(data.index[cut_index+window:],Ytu_val[:,0],'r-',label='LSTM')\n",
    "plt.plot(data.index[cut_index+window:],Ym_val[:,0],'b--',label='Measured')\n",
    "plt.title('Validation')\n",
    "plt.legend()"
   ]
  }
 ],
 "metadata": {
  "accelerator": "GPU",
  "colab": {
   "collapsed_sections": [],
   "name": "01_LSTM_Training_with_FOPDT.ipynb",
   "provenance": []
  },
  "kernelspec": {
   "display_name": "Python 3",
   "language": "python",
   "name": "python3"
  },
  "language_info": {
   "codemirror_mode": {
    "name": "ipython",
    "version": 3
   },
   "file_extension": ".py",
   "mimetype": "text/x-python",
   "name": "python",
   "nbconvert_exporter": "python",
   "pygments_lexer": "ipython3",
   "version": "3.8.10"
  }
 },
 "nbformat": 4,
 "nbformat_minor": 1
}
